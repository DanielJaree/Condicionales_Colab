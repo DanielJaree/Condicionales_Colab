{
  "nbformat": 4,
  "nbformat_minor": 0,
  "metadata": {
    "colab": {
      "provenance": [],
      "authorship_tag": "ABX9TyOBmjPrPAhEyyM3wLC/KHcn",
      "include_colab_link": true
    },
    "kernelspec": {
      "name": "python3",
      "display_name": "Python 3"
    },
    "language_info": {
      "name": "python"
    }
  },
  "cells": [
    {
      "cell_type": "markdown",
      "metadata": {
        "id": "view-in-github",
        "colab_type": "text"
      },
      "source": [
        "<a href=\"https://colab.research.google.com/github/DanielJaree/Condicionales_Colab/blob/main/Condicionales.ipynb\" target=\"_parent\"><img src=\"https://colab.research.google.com/assets/colab-badge.svg\" alt=\"Open In Colab\"/></a>"
      ]
    },
    {
      "cell_type": "markdown",
      "source": [
        "# Ejercicios Condicionales\n",
        " \n",
        "\n",
        "\n",
        "*   if\n",
        "*   if else\n",
        "*   if elif else\n",
        "\n",
        "\n",
        "\n"
      ],
      "metadata": {
        "id": "Cx0vIPpkovcF"
      }
    },
    {
      "cell_type": "markdown",
      "source": [
        "Programa que lee dos números enteros y averigüa si el uno es múltiplo del otro."
      ],
      "metadata": {
        "id": "jKVlPadYpawy"
      }
    },
    {
      "cell_type": "code",
      "execution_count": null,
      "metadata": {
        "id": "s7J2g6jcoe0z"
      },
      "outputs": [],
      "source": [
        "\"\"\"Ejercicio No.1\n",
        "Programa que lee dos números enteros y averigüa si el uno es múltiplo del otro.\"\"\"\n",
        "\n",
        "imprimir ( \"--------------------\" )\n",
        "print ( \"---- MÚLTIPLOS ----\" )\n",
        "imprimir ( \"--------------------\" )\n",
        "\n",
        "#aporte\n",
        "a = int ( input ( \"Digite el valor de a: \" ))\n",
        "b = int ( input ( \"Digite el valor de b: \" ))\n",
        "\n",
        "#Procesando\n",
        "si  a > b :\n",
        "    r = un % segundo\n",
        "    si  r == 0 :\n",
        "        print ( \"a es múltiplo de b.\" )\n",
        "    más :\n",
        "        print ( \"a NO es múltiplo de b.\" )\n",
        "más :\n",
        "    r = segundo % un\n",
        "    si  r == 0 :\n",
        "        print ( \"b es múltiplo de a.\" )\n",
        "    más :\n",
        "        print ( \"b NO es múltiplo de a.\" )"
      ]
    },
    {
      "cell_type": "markdown",
      "source": [
        "Programa que determina si dados tres números enteros, la suma de los dos primeros es igual al tercero."
      ],
      "metadata": {
        "id": "Y_icuNtmpm2-"
      }
    },
    {
      "cell_type": "code",
      "source": [
        "\"\"\"Ejercicio No.2\n",
        "Programa que calcula e imprime las raíces de la ecuación de segundo grado de coeficientes reales.\"\"\"\n",
        "\n",
        "imprimir ( \"-----------------------\" )\n",
        "print ( \"------ SUMA ---------\" )\n",
        "imprimir ( \"-----------------------\" )\n",
        "\n",
        "#aporte\n",
        "x = float ( input ( \"Ingrese el primer número: \" ))\n",
        "y = float ( input ( \"Ingrese el segundo número: \" ))\n",
        "z = float ( input ( \"Ingrese el tercer número: \" ))\n",
        "\n",
        "#Procesando\n",
        "s = x + y\n",
        "\n",
        "#producción\n",
        "si  s == z :\n",
        "    print ( \"La suma de los primeros dos números es igual al tercero.\" )\n",
        "más :\n",
        "    print ( \"La suma de los dos primeros números NO es igual al tercero.\" )"
      ],
      "metadata": {
        "id": "dGHIngR3puLG"
      },
      "execution_count": null,
      "outputs": []
    },
    {
      "cell_type": "markdown",
      "source": [
        "Programa que calcula el índice de masa corporal de una persona (IMC = peso[kg] / altura2 [m]) e indica el estado en el que se encuentra esa persona en función del valor del IMC:"
      ],
      "metadata": {
        "id": "xx2gqo5mp71W"
      }
    },
    {
      "cell_type": "code",
      "source": [
        "\"\"\"Ejercicio No.3\n",
        "Programa que calcula el índice de masa corporal de una persona.\"\"\"\n",
        "\n",
        "print(\"---------------\")\n",
        "print(\"------IMC------\")\n",
        "print(\"---------------\")\n",
        "\n",
        "#input \n",
        "peso=int(input(\"Ingrese su peso: \"))\n",
        "altura=float(input(\"Ingrese su altura: \"))\n",
        "\n",
        "#processing\n",
        "IMC=peso/(altura*altura)\n",
        "\n",
        "#output \n",
        "if IMC<16:\n",
        "    print(\"Su estado es: \" + \"Criterio de ingreso a hospital.\")\n",
        "else:\n",
        "    if IMC>=16 and IMC<17:\n",
        "        print(\"Su estado es: \" + \"Infrapeso\")\n",
        "    else:\n",
        "        if IMC>=17 and IMC<18:\n",
        "            print(\"Su estado es: \" + \"Bajo peso\")\n",
        "        else: \n",
        "            if IMC>=18 and IMC<25:\n",
        "                print(\"Su estado es: \" + \"Peso normal(Saludable)\")\n",
        "            else:\n",
        "                if IMC>=25 and IMC<30:\n",
        "                    print(\"Su estado es: \" + \"Sobrepeso(Obesidad de grado I)\")\n",
        "                else:\n",
        "                    if IMC>=30 and IMC<35:\n",
        "                        print(\"Su estado es: \" + \"Sobrepeso crónico(Obesidad de grado II)\")\n",
        "                    else: \n",
        "                        if IMC>=35 and IMC<40:\n",
        "                             print(\"Su estado es: \" + \"Obesidad premórbida(Obesidad de grado III)\")\n",
        "                        else:  \n",
        "                         print(\"Su estado es: \" + \"Obesidad mórbida(Obesidad de grado IV)\")"
      ],
      "metadata": {
        "id": "OAVMYMbKqE_Y"
      },
      "execution_count": null,
      "outputs": []
    }
  ]
}